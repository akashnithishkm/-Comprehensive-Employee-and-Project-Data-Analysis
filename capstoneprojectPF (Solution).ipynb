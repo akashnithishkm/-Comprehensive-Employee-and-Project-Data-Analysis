{
 "cells": [
  {
   "cell_type": "markdown",
   "id": "272f9ff8-3f07-4c7a-93a2-ebe79d4e7a40",
   "metadata": {},
   "source": [
    "Capstone Project \n",
    "Python Fundamentals"
   ]
  },
  {
   "cell_type": "markdown",
   "id": "12ddbbc3-a78c-4c85-a632-c0ca7bc6fb41",
   "metadata": {},
   "source": [
    "Task 1: Create and Save DataFrames as CSV Files"
   ]
  },
  {
   "cell_type": "code",
   "execution_count": 1,
   "id": "753ba331-80df-498e-a4c9-dca56b388e80",
   "metadata": {},
   "outputs": [],
   "source": [
    "import pandas as pd\n",
    "import numpy as np\n",
    "\n",
    "# Define the data for each DataFrame\n",
    "project_data = {\n",
    "    'ID': ['A001', 'A002', 'A003', 'A004', 'A005', 'A002', 'A005', 'A003', 'A001', 'A003', 'A001', 'A004', 'A004', 'A005'],\n",
    "    'Project': ['Project 1', 'Project 2', 'Project 3', 'Project 4', 'Project 5', 'Project 6', 'Project 7', 'Project 8', 'Project 9', 'Project 10', 'Project 11', 'Project 12', 'Project 13', 'Project 14'],\n",
    "    'Cost': [1002000, 2000000, 4500000, 5500000, np.nan, 680000, 400000, 350000, np.nan, 300000, 2000000, 1000000, 3000000, 200000],\n",
    "    'Status': ['Finished', 'Ongoing', 'Finished', 'Ongoing', 'Finished', 'Failed', 'Finished', 'Failed', 'Ongoing', 'Finished', 'Failed', 'Ongoing', 'Finished', 'Finished']\n",
    "}\n",
    "\n",
    "employee_data = {\n",
    "    'ID': ['A001', 'A002', 'A003', 'A004', 'A005'],\n",
    "    'Name': ['John Alter', 'Alice Luxumberg', 'Tom Sabestine', 'Nina Adgra', 'Amy Johny'],\n",
    "    'Gender': ['M', 'F', 'M', 'F', 'F'],\n",
    "    'City': ['Paris', 'London', 'Berlin', 'New York', 'Madrid'],\n",
    "    'Age': [25, 27, 29, 31, 30]\n",
    "}\n",
    "\n",
    "seniority_data = {\n",
    "    'ID': ['A001', 'A002', 'A003', 'A004', 'A005'],\n",
    "    'Designation Level': [2, 2, 3, 2, 3]\n",
    "}\n",
    "\n",
    "# Create DataFrames\n",
    "df_project = pd.DataFrame(project_data)\n",
    "df_employee = pd.DataFrame(employee_data)\n",
    "df_seniority = pd.DataFrame(seniority_data)\n",
    "\n",
    "# Save DataFrames to CSV files\n",
    "df_project.to_csv('project_data.csv', index=False)\n",
    "df_employee.to_csv('employee_data.csv', index=False)\n",
    "df_seniority.to_csv('seniority_data.csv', index=False)"
   ]
  },
  {
   "cell_type": "markdown",
   "id": "86348408-1724-4791-bcd0-ec59b38e9737",
   "metadata": {},
   "source": [
    "Task 2: Compute Missing Values in Project DataFrame using Running Average"
   ]
  },
  {
   "cell_type": "code",
   "execution_count": 2,
   "id": "3b7687c7-988b-4d0b-bea5-f93aa0300d02",
   "metadata": {},
   "outputs": [],
   "source": [
    "# Reload the Project DataFrame from CSV for Task 2\n",
    "df_project = pd.read_csv('project_data.csv')\n",
    "\n",
    "# Compute missing values in Cost column using running average\n",
    "running_avg = 0\n",
    "count = 0\n",
    "\n",
    "for index, row in df_project.iterrows():\n",
    "    if pd.isna(row['Cost']):\n",
    "        df_project.at[index, 'Cost'] = running_avg\n",
    "    running_avg = df_project['Cost'].mean()  # Update running average\n",
    "    count += 1\n",
    "\n",
    "# Save updated DataFrame to CSV\n",
    "df_project.to_csv('project_data_task2.csv', index=False)"
   ]
  },
  {
   "cell_type": "markdown",
   "id": "a63029b8-c2e3-464f-afd8-aef868f2836b",
   "metadata": {},
   "source": [
    "Task 3: Split Name Column in Employee DataFrame"
   ]
  },
  {
   "cell_type": "code",
   "execution_count": 6,
   "id": "589762e2-0b76-445a-abcf-4292f4838175",
   "metadata": {
    "scrolled": true
   },
   "outputs": [],
   "source": [
    "import pandas as pd\n",
    "\n",
    "# Reload the Employee DataFrame from CSV for Task 3\n",
    "df_employee = pd.read_csv('employee_data.csv')\n",
    "\n",
    "# Split 'Name' column into 'First Name' and 'Last Name'\n",
    "name_split = df_employee['Name'].str.split(' ', n=1, expand=True)\n",
    "df_employee['First Name'] = name_split[0]\n",
    "df_employee['Last Name'] = name_split[1].fillna('')  # Handling cases where there might not be a last name\n",
    "\n",
    "# Drop the older 'Name' column\n",
    "df_employee.drop(columns=['Name'], inplace=True)\n",
    "\n",
    "# Save updated DataFrame to CSV\n",
    "df_employee.to_csv('employee_data_task3.csv', index=False)"
   ]
  },
  {
   "cell_type": "markdown",
   "id": "fd616164-76e6-4da3-aacb-0054e002efe5",
   "metadata": {},
   "source": [
    "Task 4: Join all DataFrames into a Single DataFrame"
   ]
  },
  {
   "cell_type": "code",
   "execution_count": 7,
   "id": "a7f4b87c-a4fc-4066-900f-ee7ad7aecc77",
   "metadata": {},
   "outputs": [],
   "source": [
    "# Reload all DataFrames from CSV for Task 4\n",
    "df_project = pd.read_csv('project_data_task2.csv')\n",
    "df_employee = pd.read_csv('employee_data_task3.csv')\n",
    "df_seniority = pd.read_csv('seniority_data.csv')\n",
    "\n",
    "# Merge DataFrames\n",
    "df_final = pd.merge(df_project, df_employee, on='ID')\n",
    "df_final = pd.merge(df_final, df_seniority, on='ID')\n",
    "\n",
    "# Save merged DataFrame to CSV\n",
    "df_final.to_csv('final_data_task4.csv', index=False)"
   ]
  },
  {
   "cell_type": "markdown",
   "id": "3823d9fb-6fe6-4357-b2cd-69ddbb567b4f",
   "metadata": {},
   "source": [
    "Task 5: Add a Bonus Column in Final DataFrame"
   ]
  },
  {
   "cell_type": "code",
   "execution_count": 8,
   "id": "e37c83db-8faf-4085-8eb8-4e42287802f0",
   "metadata": {},
   "outputs": [],
   "source": [
    "# Reload the Final DataFrame from CSV for Task 5\n",
    "df_final = pd.read_csv('final_data_task4.csv')\n",
    "\n",
    "# Add a bonus column (5% bonus on project cost for finished projects)\n",
    "df_final['Bonus'] = np.where(df_final['Status'] == 'Finished', 0.05 * df_final['Cost'], 0)\n",
    "\n",
    "# Save updated DataFrame to CSV\n",
    "df_final.to_csv('final_data_task5.csv', index=False)"
   ]
  },
  {
   "cell_type": "markdown",
   "id": "ed2f82f9-e841-4690-b5ef-96c43479a11e",
   "metadata": {},
   "source": [
    "Task 6: Demote Designation Level and Remove Records Above Level 4"
   ]
  },
  {
   "cell_type": "code",
   "execution_count": 9,
   "id": "0d4e58a2-0622-4702-9d56-48486bf19280",
   "metadata": {},
   "outputs": [],
   "source": [
    "# Reload the Final DataFrame from CSV for Task 6\n",
    "df_final = pd.read_csv('final_data_task5.csv')\n",
    "\n",
    "# Demote designation level by 1 for employees with failed projects\n",
    "df_final.loc[df_final['Status'] == 'Failed', 'Designation Level'] -= 1\n",
    "\n",
    "# Remove employees whose designation level is above 4\n",
    "df_final = df_final[df_final['Designation Level'] <= 4]\n",
    "\n",
    "# Save updated DataFrame to CSV\n",
    "df_final.to_csv('final_data_task6.csv', index=False)"
   ]
  },
  {
   "cell_type": "markdown",
   "id": "b19ee708-c997-4939-b4ce-abaa6bf6748f",
   "metadata": {},
   "source": [
    "Task 7: Add \"Mr.\" and \"Mrs.\" to First Name Column and Drop Gender Column"
   ]
  },
  {
   "cell_type": "code",
   "execution_count": 10,
   "id": "f7c81c76-b1b8-4fd1-adc0-a3e5bed4e386",
   "metadata": {},
   "outputs": [],
   "source": [
    "# Reload the Final DataFrame from CSV for Task 7\n",
    "df_final = pd.read_csv('final_data_task6.csv')\n",
    "\n",
    "# Add \"Mr.\" and \"Mrs.\" based on gender\n",
    "df_final['First Name'] = np.where(df_final['Gender'] == 'M', 'Mr. ' + df_final['First Name'], 'Mrs. ' + df_final['First Name'])\n",
    "\n",
    "# Drop the Gender column\n",
    "df_final.drop(columns=['Gender'], inplace=True)\n",
    "\n",
    "# Save updated DataFrame to CSV\n",
    "df_final.to_csv('final_data_task7.csv', index=False)"
   ]
  },
  {
   "cell_type": "markdown",
   "id": "c4c1beb1-0496-4d3d-bb94-d28c548299de",
   "metadata": {},
   "source": [
    "Task 8: Promote Designation Level for Employees Age > 29"
   ]
  },
  {
   "cell_type": "code",
   "execution_count": 11,
   "id": "eecf618b-c8ad-462f-a991-372f7ff5b64d",
   "metadata": {},
   "outputs": [],
   "source": [
    "# Reload the Final DataFrame from CSV for Task 8\n",
    "df_final = pd.read_csv('final_data_task7.csv')\n",
    "\n",
    "# Promote designation level by 1 for employees age > 29\n",
    "df_final.loc[df_final['Age'] > 29, 'Designation Level'] += 1\n",
    "\n",
    "# Save updated DataFrame to CSV\n",
    "df_final.to_csv('final_data_task8.csv', index=False)"
   ]
  },
  {
   "cell_type": "markdown",
   "id": "ba3fd3c1-586c-40ce-bf54-554e1877c2e4",
   "metadata": {},
   "source": [
    "Task 9: Calculate Total Project Cost for Each Employee"
   ]
  },
  {
   "cell_type": "code",
   "execution_count": 12,
   "id": "0d61f816-fee7-46b2-89b8-5805ef6f9bed",
   "metadata": {},
   "outputs": [],
   "source": [
    "# Reload the Final DataFrame from CSV for Task 9\n",
    "df_final = pd.read_csv('final_data_task8.csv')\n",
    "\n",
    "# Calculate total project cost for each employee\n",
    "total_proj_cost = df_final.groupby(['ID', 'First Name'])['Cost'].sum().reset_index()\n",
    "total_proj_cost.columns = ['ID', 'First Name', 'Total Cost']\n",
    "\n",
    "# Save the new DataFrame to CSV\n",
    "total_proj_cost.to_csv('total_project_cost_task9.csv', index=False)"
   ]
  },
  {
   "cell_type": "markdown",
   "id": "9f0faaaf-7146-40d1-98a7-a4bd56b60edc",
   "metadata": {},
   "source": [
    "Task 10: Print Employee Details for Cities Containing the Letter \"o\""
   ]
  },
  {
   "cell_type": "code",
   "execution_count": 13,
   "id": "7b9f8cd4-9e13-46a9-893d-47e435292c58",
   "metadata": {},
   "outputs": [
    {
     "name": "stdout",
     "output_type": "stream",
     "text": [
      "      ID     Project       Cost    Status      City  Age  First Name  \\\n",
      "3   A002   Project 2  2000000.0   Ongoing    London   27  Mrs. Alice   \n",
      "4   A002   Project 6   680000.0    Failed    London   27  Mrs. Alice   \n",
      "8   A004   Project 4  5500000.0   Ongoing  New York   31   Mrs. Nina   \n",
      "9   A004  Project 12  1000000.0   Ongoing  New York   31   Mrs. Nina   \n",
      "10  A004  Project 13  3000000.0  Finished  New York   31   Mrs. Nina   \n",
      "\n",
      "    Last Name  Designation Level     Bonus  \n",
      "3   Luxumberg                  2       0.0  \n",
      "4   Luxumberg                  1       0.0  \n",
      "8       Adgra                  3       0.0  \n",
      "9       Adgra                  3       0.0  \n",
      "10      Adgra                  3  150000.0  \n"
     ]
    }
   ],
   "source": [
    "# Reload the Final DataFrame from CSV for Task 10\n",
    "df_final = pd.read_csv('final_data_task8.csv')\n",
    "\n",
    "# Print employee details for cities containing the letter \"o\"\n",
    "filtered_df = df_final[df_final['City'].str.contains('o', case=False)]\n",
    "print(filtered_df)"
   ]
  }
 ],
 "metadata": {
  "kernelspec": {
   "display_name": "Python 3 (ipykernel)",
   "language": "python",
   "name": "python3"
  },
  "language_info": {
   "codemirror_mode": {
    "name": "ipython",
    "version": 3
   },
   "file_extension": ".py",
   "mimetype": "text/x-python",
   "name": "python",
   "nbconvert_exporter": "python",
   "pygments_lexer": "ipython3",
   "version": "3.11.7"
  }
 },
 "nbformat": 4,
 "nbformat_minor": 5
}
